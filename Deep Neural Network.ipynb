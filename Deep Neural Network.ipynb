{
 "cells": [
  {
   "cell_type": "markdown",
   "metadata": {
    "id": "qKRGnw6KE7kP"
   },
   "source": [
    "# Lab5 - Introduction to Deep Neural Network\n",
    "- Jinna Wannasopa 64070501060\n",
    "\n",
    "Name your file to 1060.ipynb\n",
    "\n",
    "## Lab Instruction\n",
    "\n",
    "In this lab, you will learn how to build a simple fully-connected neural network with Keras and Tensorflow as the backend. We will experiment with MNIST data, which is a Keras built-in dataset.\n",
    "\n",
    "There are three questions to answer in this lab.\n",
    "\n",
    "See http://yann.lecun.com/exdb/mnist/ for data description.\n",
    "\n",
    "First, import all of the libraries that will be used in this lab."
   ]
  },
  {
   "cell_type": "code",
   "execution_count": 1,
   "metadata": {
    "id": "I6MxiZ1sE7kT"
   },
   "outputs": [],
   "source": [
    "import keras\n",
    "import numpy as np"
   ]
  },
  {
   "cell_type": "code",
   "execution_count": 2,
   "metadata": {
    "id": "A3JCixqME7kX"
   },
   "outputs": [],
   "source": [
    "from keras.datasets import mnist\n",
    "\n",
    "### Load Data ###\n",
    "data = mnist.load_data()\n",
    "#################"
   ]
  },
  {
   "cell_type": "markdown",
   "metadata": {
    "id": "Il7fXMD9E7kY"
   },
   "source": [
    "### 1. Learn About the Data\n",
    "\n",
    "Understand your data, such as its shape, format, datatype, structure, distribution, data classes, and so on."
   ]
  },
  {
   "cell_type": "code",
   "execution_count": 3,
   "metadata": {
    "colab": {
     "base_uri": "https://localhost:8080/",
     "height": 567
    },
    "id": "BKp0VLZcE7kZ",
    "outputId": "e086c82d-461e-4c0e-bd49-1a39cfbcea66"
   },
   "outputs": [
    {
     "name": "stdout",
     "output_type": "stream",
     "text": [
      "Training data - images shape: (60000, 28, 28)\n",
      "Training data - labels shape: (60000,)\n",
      "Testing data - images shape: (10000, 28, 28)\n",
      "Testing data - labels shape: (10000,)\n",
      "Data type of images: uint8\n",
      "Data type of labels: uint8\n",
      "Classes: [0 1 2 3 4 5 6 7 8 9]\n",
      "Counts: [5923 6742 5958 6131 5842 5421 5918 6265 5851 5949]\n"
     ]
    },
    {
     "data": {
      "image/png": "[encoded data removed]",
      "text/plain": [
       "<Figure size 640x480 with 1 Axes>"
      ]
     },
     "metadata": {},
     "output_type": "display_data"
    }
   ],
   "source": [
    "import tensorflow as tf\n",
    "from tensorflow.keras.datasets import mnist\n",
    "import numpy as np\n",
    "\n",
    "# Load the dataset\n",
    "(x_train, y_train), (x_test, y_test) = data\n",
    "\n",
    "# Display information about the dataset\n",
    "print(\"Training data - images shape:\", x_train.shape)\n",
    "print(\"Training data - labels shape:\", y_train.shape)\n",
    "print(\"Testing data - images shape:\", x_test.shape)\n",
    "print(\"Testing data - labels shape:\", y_test.shape)\n",
    "\n",
    "# Check the data type and structure\n",
    "print(\"Data type of images:\", x_train.dtype)\n",
    "print(\"Data type of labels:\", y_train.dtype)\n",
    "\n",
    "# Analyze distribution of classes\n",
    "unique_classes, counts = np.unique(y_train, return_counts=True)\n",
    "print(\"Classes:\", unique_classes)\n",
    "print(\"Counts:\", counts)\n",
    "\n",
    "# Visualize a sample image and its label\n",
    "import matplotlib.pyplot as plt\n",
    "\n",
    "plt.imshow(x_train[0], cmap='gray')\n",
    "plt.title(f\"Label: {y_train[0]}\")\n",
    "plt.axis('off')\n",
    "plt.show()\n"
   ]
  },
  {
   "cell_type": "markdown",
   "metadata": {
    "id": "OQmeeqBnE7kZ"
   },
   "source": [
    "### 2. Build Neural Network Model\n",
    "\n",
    "Build a two-layer neural network (except for the input and output layers) using `Sequential()`\n",
    "( See https://keras.io/models/sequential )\n",
    "> INPUT -> LINEAR -> RELU -> LINEAR -> SOFTMAX\n",
    "\n",
    "with the hidden layer of size 512.\n",
    "\n",
    "See Keras Model: https://keras.io/models/about-keras-models/"
   ]
  },
  {
   "cell_type": "code",
   "execution_count": 4,
   "metadata": {
    "id": "MpfJ0Hs5E7kb"
   },
   "outputs": [],
   "source": [
    "from keras.models import Sequential\n",
    "from keras.layers import Dense\n",
    "\n",
    "model = Sequential([\n",
    "  # Input Layer\n",
    "  Dense(512, activation='linear', input_shape=(28*28,)),\n",
    "  # First hidden layer with linear activation\n",
    "  Dense(512, activation='relu'),\n",
    "  # Second hidden layer with ReLU activation\n",
    "  Dense(512, activation=\"linear\"),\n",
    "  # Output layer with softmax activation for classification\n",
    "  Dense(10, activation='softmax')\n",
    "])"
   ]
  },
  {
   "cell_type": "markdown",
   "metadata": {
    "id": "QkzGtDILE7kc"
   },
   "source": [
    "Compile your model with the following argument.\n",
    "\n",
    "```\n",
    "optimizer='sgd',\n",
    "loss='categorical_crossentropy',\n",
    "metrics=['accuracy']\n",
    "```"
   ]
  },
  {
   "cell_type": "code",
   "execution_count": 5,
   "metadata": {
    "id": "UEaXkW6DE7kd"
   },
   "outputs": [],
   "source": [
    "model.compile(optimizer='sgd', loss='categorical_crossentropy', metrics=['accuracy'])"
   ]
  },
  {
   "cell_type": "markdown",
   "metadata": {
    "id": "bVNLLLHFE7kf"
   },
   "source": [
    "Let's see how our model looks using `.summary()`"
   ]
  },
  {
   "cell_type": "code",
   "execution_count": 6,
   "metadata": {
    "colab": {
     "base_uri": "https://localhost:8080/"
    },
    "id": "48OnGBKZE7kg",
    "outputId": "7a31f7ed-dd07-4582-fb19-b81988923f48"
   },
   "outputs": [
    {
     "name": "stdout",
     "output_type": "stream",
     "text": [
      "Model: \"sequential\"\n",
      "_________________________________________________________________\n",
      " Layer (type)                Output Shape              Param #   \n",
      "=================================================================\n",
      " dense (Dense)               (None, 512)               401920    \n",
      "                                                                 \n",
      " dense_1 (Dense)             (None, 512)               262656    \n",
      "                                                                 \n",
      " dense_2 (Dense)             (None, 512)               262656    \n",
      "                                                                 \n",
      " dense_3 (Dense)             (None, 10)                5130      \n",
      "                                                                 \n",
      "=================================================================\n",
      "Total params: 932362 (3.56 MB)\n",
      "Trainable params: 932362 (3.56 MB)\n",
      "Non-trainable params: 0 (0.00 Byte)\n",
      "_________________________________________________________________\n"
     ]
    }
   ],
   "source": [
    "model.summary()"
   ]
  },
  {
   "cell_type": "markdown",
   "metadata": {
    "id": "TnkRRdWUE7kh"
   },
   "source": [
    "### 3. Preprocessing\n",
    "\n",
    "- Reshape (flatten) the features data and normalize the value to be between 0 and 1\n",
    "- One-hot the target data"
   ]
  },
  {
   "cell_type": "code",
   "execution_count": 7,
   "metadata": {
    "id": "LRa5k3mZE7ki"
   },
   "outputs": [],
   "source": [
    "from tensorflow.keras.utils import to_categorical\n",
    "\n",
    "# Reshape and normalize input features\n",
    "X_train = x_train.reshape(-1, 28*28)\n",
    "X_train = X_train.astype('float32') / 255.0\n",
    "\n",
    "X_test = x_test.reshape(-1, 28*28)\n",
    "X_test = X_test.astype('float32') / 255.0\n",
    "\n",
    "# One-hot encode the target labels\n",
    "y_train = to_categorical(y_train)\n",
    "y_test = to_categorical(y_test)"
   ]
  },
  {
   "cell_type": "markdown",
   "metadata": {
    "id": "d7t-fWCWE7kj"
   },
   "source": [
    "### 4. Model Training\n",
    "\n",
    "Use `.fit()` to train your neural network model and return a record of accuracy and loss values for each epoch.\n",
    "\n",
    "We will train the model for 10 epochs (If you are confident in your computer's performance, you can train the model with more epochs.)\n",
    "\n",
    "We will train using the mini-batch method, with each batch containing 128 data points.\n",
    "\n",
    "To avoid overfitting with the test set, we will split the current training data into 90% for training and 10% for validating the model.\n",
    "\n",
    "This will take approximately one minute."
   ]
  },
  {
   "cell_type": "code",
   "execution_count": 8,
   "metadata": {
    "colab": {
     "base_uri": "https://localhost:8080/"
    },
    "id": "FTuvC2JgE7ko",
    "outputId": "f61aa77c-b45c-48c4-d9df-51b5f75db541"
   },
   "outputs": [
    {
     "name": "stdout",
     "output_type": "stream",
     "text": [
      "Epoch 1/10\n",
      "422/422 [==============================] - 20s 43ms/step - loss: 0.7876 - accuracy: 0.8101 - val_loss: 0.3559 - val_accuracy: 0.9105\n",
      "Epoch 2/10\n",
      "422/422 [==============================] - 17s 40ms/step - loss: 0.3770 - accuracy: 0.8957 - val_loss: 0.2786 - val_accuracy: 0.9267\n",
      "Epoch 3/10\n",
      "422/422 [==============================] - 9s 21ms/step - loss: 0.3205 - accuracy: 0.9091 - val_loss: 0.2458 - val_accuracy: 0.9323\n",
      "Epoch 4/10\n",
      "422/422 [==============================] - 11s 27ms/step - loss: 0.2882 - accuracy: 0.9175 - val_loss: 0.2263 - val_accuracy: 0.9375\n",
      "Epoch 5/10\n",
      "422/422 [==============================] - 15s 35ms/step - loss: 0.2642 - accuracy: 0.9253 - val_loss: 0.2068 - val_accuracy: 0.9433\n",
      "Epoch 6/10\n",
      "422/422 [==============================] - 10s 23ms/step - loss: 0.2442 - accuracy: 0.9308 - val_loss: 0.1948 - val_accuracy: 0.9438\n",
      "Epoch 7/10\n",
      "422/422 [==============================] - 8s 18ms/step - loss: 0.2269 - accuracy: 0.9356 - val_loss: 0.1839 - val_accuracy: 0.9493\n",
      "Epoch 8/10\n",
      "422/422 [==============================] - 10s 23ms/step - loss: 0.2120 - accuracy: 0.9401 - val_loss: 0.1693 - val_accuracy: 0.9533\n",
      "Epoch 9/10\n",
      "422/422 [==============================] - 9s 22ms/step - loss: 0.1986 - accuracy: 0.9436 - val_loss: 0.1601 - val_accuracy: 0.9595\n",
      "Epoch 10/10\n",
      "422/422 [==============================] - 8s 19ms/step - loss: 0.1866 - accuracy: 0.9471 - val_loss: 0.1527 - val_accuracy: 0.9598\n"
     ]
    }
   ],
   "source": [
    "history = model.fit(\n",
    "    X_train, y_train,\n",
    "    epochs=10,\n",
    "    batch_size=128,\n",
    "    validation_split=0.1\n",
    ")"
   ]
  },
  {
   "cell_type": "markdown",
   "metadata": {
    "id": "YbvM2VmgE7kp"
   },
   "source": [
    "We will plot the loss and accuracy of both the train and validate sets over iterations."
   ]
  },
  {
   "cell_type": "code",
   "execution_count": 9,
   "metadata": {
    "id": "pZAvLvH4E7kq"
   },
   "outputs": [],
   "source": [
    "import  matplotlib.pyplot  as plt\n",
    "%matplotlib inline"
   ]
  },
  {
   "cell_type": "code",
   "execution_count": 10,
   "metadata": {
    "id": "yK25hwMbE7kr"
   },
   "outputs": [],
   "source": [
    "# The function argument is the model's history during the training process.\n",
    "def plot_loss_fn(history):\n",
    "    loss = history.history['loss']\n",
    "    val_loss = history.history['val_loss']\n",
    "\n",
    "    epochs = range(1, len(loss) + 1)\n",
    "\n",
    "    plt.plot(epochs, loss, 'bo', label='Training loss')\n",
    "    plt.plot(epochs, val_loss, 'b', label='Validation loss')\n",
    "    plt.title('Training and validation loss')\n",
    "    plt.xlabel('Epochs')\n",
    "    plt.ylabel('Loss')\n",
    "    plt.legend()\n",
    "\n",
    "def plot_acc_fn(history):\n",
    "\n",
    "    acc = history.history['accuracy']\n",
    "    val_acc = history.history['val_accuracy']\n",
    "\n",
    "    epochs = range(1, len(acc) + 1)\n",
    "\n",
    "    plt.plot(epochs, acc, 'bo', label='Training acc')\n",
    "    plt.plot(epochs, val_acc, 'b', label='Validation acc')\n",
    "    plt.title('Training and validation accuracy')\n",
    "    plt.xlabel('Epochs')\n",
    "    plt.ylabel('Loss')\n",
    "    plt.legend()"
   ]
  },
  {
   "cell_type": "code",
   "execution_count": 11,
   "metadata": {
    "colab": {
     "base_uri": "https://localhost:8080/",
     "height": 472
    },
    "id": "I3vVpGZHBX7q",
    "outputId": "a09bd436-6a0a-4557-81fc-92c621e2e24f"
   },
   "outputs": [
    {
     "data": {
      "image/png": "[encoded data removed]",
      "text/plain": [
       "<Figure size 640x480 with 1 Axes>"
      ]
     },
     "metadata": {},
     "output_type": "display_data"
    }
   ],
   "source": [
    "plot_loss_fn(history)"
   ]
  },
  {
   "cell_type": "code",
   "execution_count": 12,
   "metadata": {
    "colab": {
     "base_uri": "https://localhost:8080/",
     "height": 472
    },
    "id": "hclG6i66E7kv",
    "outputId": "683813e2-c6bf-4f90-9262-4fc7e6c7a4b6"
   },
   "outputs": [
    {
     "data": {
      "image/png": "[encoded data removed]",
      "text/plain": [
       "<Figure size 640x480 with 1 Axes>"
      ]
     },
     "metadata": {},
     "output_type": "display_data"
    }
   ],
   "source": [
    "plot_acc_fn(history)"
   ]
  },
  {
   "cell_type": "markdown",
   "metadata": {
    "id": "--_jK-ASE7kv"
   },
   "source": [
    "Q: At which iteration does your model start to overfit? Give your rational.\n",
    "\n",
    "**ANSWER**"
   ]
  },
  {
   "cell_type": "markdown",
   "metadata": {
    "id": "UcS8GzuVE7kw"
   },
   "source": [
    "I think the model did not seem to overfit yet, given 10 epochs."
   ]
  },
  {
   "cell_type": "markdown",
   "metadata": {
    "id": "apFd-PjLE7kw"
   },
   "source": [
    "### 5. Model Evaluation\n",
    "\n",
    "Evaluate your model with test set using `.evaluate()` and compare the results to those from the training and validate sets. Does your model overfit or underfit? How about the bias and variance?"
   ]
  },
  {
   "cell_type": "code",
   "execution_count": 13,
   "metadata": {
    "colab": {
     "base_uri": "https://localhost:8080/"
    },
    "id": "5DWOZBhnE7kx",
    "outputId": "db73825c-b9de-442d-a42a-0ba06b50b8a6"
   },
   "outputs": [
    {
     "name": "stdout",
     "output_type": "stream",
     "text": [
      "313/313 [==============================] - 1s 4ms/step - loss: 0.1749 - accuracy: 0.9491\n"
     ]
    },
    {
     "data": {
      "text/plain": [
       "[0.17491231858730316, 0.9491000175476074]"
      ]
     },
     "execution_count": 13,
     "metadata": {},
     "output_type": "execute_result"
    }
   ],
   "source": [
    "model.evaluate(X_test, y_test)"
   ]
  },
  {
   "cell_type": "markdown",
   "metadata": {
    "id": "Es3qv4GUE7kx"
   },
   "source": [
    "Q: Analyze the performance of your model using a confusion matrix. Which class does your model frequently misclassify? What is the precision and recall of your model?"
   ]
  },
  {
   "cell_type": "code",
   "execution_count": 14,
   "metadata": {
    "colab": {
     "base_uri": "https://localhost:8080/"
    },
    "id": "rrmzD3RtE7kx",
    "outputId": "3f7592e2-8d77-4f7e-e942-dc2e78901c21"
   },
   "outputs": [
    {
     "name": "stdout",
     "output_type": "stream",
     "text": [
      "313/313 [==============================] - 2s 6ms/step\n",
      "              precision    recall  f1-score   support\n",
      "\n",
      "           0       0.96      0.98      0.97       980\n",
      "           1       0.97      0.98      0.98      1135\n",
      "           2       0.95      0.94      0.95      1032\n",
      "           3       0.95      0.94      0.94      1010\n",
      "           4       0.95      0.95      0.95       982\n",
      "           5       0.95      0.93      0.94       892\n",
      "           6       0.94      0.97      0.95       958\n",
      "           7       0.94      0.95      0.95      1028\n",
      "           8       0.93      0.93      0.93       974\n",
      "           9       0.95      0.92      0.93      1009\n",
      "\n",
      "    accuracy                           0.95     10000\n",
      "   macro avg       0.95      0.95      0.95     10000\n",
      "weighted avg       0.95      0.95      0.95     10000\n",
      "\n"
     ]
    }
   ],
   "source": [
    "from sklearn.metrics import classification_report, confusion_matrix\n",
    "\n",
    "### evaluate your model ###\n",
    "y_pred = model.predict(X_test)\n",
    "y_pred = np.argmax(y_pred, axis=1)\n",
    "y_test = np.argmax(y_test, axis=1)\n",
    "\n",
    "print(classification_report(y_test, y_pred))\n",
    "###########################"
   ]
  },
  {
   "cell_type": "markdown",
   "metadata": {
    "id": "wav4bZmPE7ky"
   },
   "source": [
    "\n",
    "**ANSWER**"
   ]
  },
  {
   "cell_type": "markdown",
   "metadata": {
    "id": "frboEwSkE7ky"
   },
   "source": [
    "- Class 8 (digit '8') is frequently misclassified, with a slightly lower precision and recall compared to other classes.\n",
    "- Precision and recall scores range between 0.92 and 0.98 for different classes, with an average of 0.95 for both metrics."
   ]
  },
  {
   "cell_type": "markdown",
   "metadata": {
    "id": "TMPCocnEE7ky"
   },
   "source": [
    "### 6. Model tuning\n",
    "\n",
    "Try tuning your model by:\n",
    "1. Adjust the learning rate of your optimizer by increasing and decreasing the learning rate to see how it affects your model.\n",
    "2. Experiment with different optimizers ('sgd', 'rmspop', 'adagrad', 'adam', See https://keras.io/optimizers ) to see which one converges faster.\n",
    "3. Change the structure of your model by adding more hidden layers with any number of nodes, and then observe how this affects your model."
   ]
  },
  {
   "cell_type": "code",
   "execution_count": 21,
   "metadata": {
    "id": "pQneD_DIKg4R"
   },
   "outputs": [],
   "source": [
    "# Just for test different parameters (Faster)\n",
    "new_model = Sequential([\n",
    "    Dense(128, activation='relu', input_shape=(28*28,)),\n",
    "    Dense(10, activation='softmax')\n",
    "])\n",
    "\n",
    "(x_train, y_train), (x_test, y_test) = data\n",
    "\n",
    "# Reshape and normalize input features\n",
    "X_train = x_train.reshape(-1, 28*28)\n",
    "X_train = X_train.astype('float32') / 255.0\n",
    "\n",
    "X_test = x_test.reshape(-1, 28*28)\n",
    "X_test = X_test.astype('float32') / 255.0\n",
    "\n",
    "# One-hot encode the target labels\n",
    "y_train = to_categorical(y_train)\n",
    "y_test = to_categorical(y_test)"
   ]
  },
  {
   "cell_type": "code",
   "execution_count": 22,
   "metadata": {
    "colab": {
     "base_uri": "https://localhost:8080/"
    },
    "id": "ZTwomseuHgcK",
    "outputId": "a7cc29ba-a562-453a-8e6c-8152dc885458"
   },
   "outputs": [
    {
     "name": "stdout",
     "output_type": "stream",
     "text": [
      "313/313 [==============================] - 1s 2ms/step - loss: 0.0988 - accuracy: 0.9709\n",
      "Learning Rate: 0.1 - Test Accuracy: 0.9708999991416931, Test Loss: 0.09877271205186844\n",
      "313/313 [==============================] - 1s 2ms/step - loss: 0.0934 - accuracy: 0.9731\n",
      "Learning Rate: 0.01 - Test Accuracy: 0.9731000065803528, Test Loss: 0.09337177127599716\n",
      "313/313 [==============================] - 1s 3ms/step - loss: 0.0925 - accuracy: 0.9734\n",
      "Learning Rate: 0.001 - Test Accuracy: 0.9733999967575073, Test Loss: 0.09254913032054901\n",
      "313/313 [==============================] - 1s 2ms/step - loss: 0.0925 - accuracy: 0.9734\n",
      "Learning Rate: 0.0001 - Test Accuracy: 0.9733999967575073, Test Loss: 0.09249457716941833\n"
     ]
    }
   ],
   "source": [
    "from tensorflow.keras import optimizers\n",
    "\n",
    "# Define the optimizer outside the loop\n",
    "sgd = optimizers.SGD()\n",
    "\n",
    "# Compile the model\n",
    "new_model.compile(optimizer=sgd, loss='categorical_crossentropy', metrics=['accuracy'])\n",
    "\n",
    "# Constant validation split if applicable\n",
    "validation_data = (X_train, y_train)  # Replace with your validation split if it's constant\n",
    "\n",
    "# Experimenting with different learning rates\n",
    "learning_rates = [0.1, 0.01, 0.001, 0.0001]  # Try different learning rates\n",
    "\n",
    "for lr in learning_rates:\n",
    "    sgd.learning_rate = lr  # Change learning rate in the optimizer\n",
    "    history = new_model.fit(X_train, y_train, epochs=10, batch_size=128, validation_data=validation_data, verbose=0)\n",
    "    evaluation = new_model.evaluate(X_test, y_test)\n",
    "    print(f\"Learning Rate: {lr} - Test Accuracy: {evaluation[1]}, Test Loss: {evaluation[0]}\")\n"
   ]
  },
  {
   "cell_type": "code",
   "execution_count": 23,
   "metadata": {
    "colab": {
     "base_uri": "https://localhost:8080/"
    },
    "id": "uo67YleqDNT0",
    "outputId": "04e77808-1386-41d5-fc22-a2c9f58f084d"
   },
   "outputs": [
    {
     "name": "stdout",
     "output_type": "stream",
     "text": [
      "313/313 [==============================] - 1s 2ms/step - loss: 0.0888 - accuracy: 0.9748\n",
      "Optimizer: sgd - Test Accuracy: 0.9747999906539917, Test Loss: 0.08883687853813171\n",
      "313/313 [==============================] - 1s 3ms/step - loss: 0.0863 - accuracy: 0.9756\n",
      "Optimizer: rmsprop - Test Accuracy: 0.975600004196167, Test Loss: 0.08633727580308914\n",
      "313/313 [==============================] - 1s 2ms/step - loss: 0.0837 - accuracy: 0.9757\n",
      "Optimizer: adagrad - Test Accuracy: 0.9757000207901001, Test Loss: 0.08366146683692932\n",
      "313/313 [==============================] - 1s 2ms/step - loss: 0.0812 - accuracy: 0.9763\n",
      "Optimizer: adam - Test Accuracy: 0.9763000011444092, Test Loss: 0.08120168745517731\n"
     ]
    }
   ],
   "source": [
    "from tensorflow.keras import optimizers\n",
    "\n",
    "# Compile the model outside the loop\n",
    "new_model.compile(loss='categorical_crossentropy', metrics=['accuracy'])\n",
    "\n",
    "# Constant validation split if applicable\n",
    "validation_data = (X_train, y_train)  # Replace with your validation split if it's constant\n",
    "\n",
    "# Experimenting with different optimizers\n",
    "optimizers_list = ['sgd', 'rmsprop', 'adagrad', 'adam']  # Try different optimizers\n",
    "\n",
    "for optimizer_name in optimizers_list:\n",
    "    optimizer = optimizers.get(optimizer_name)\n",
    "    new_model.optimizer = optimizer  # Set the optimizer directly in the new_model\n",
    "\n",
    "    history = new_model.fit(X_train, y_train, epochs=10, batch_size=128, validation_data=validation_data, verbose=0)\n",
    "    evaluation = new_model.evaluate(X_test, y_test)\n",
    "    print(f\"Optimizer: {optimizer_name} - Test Accuracy: {evaluation[1]}, Test Loss: {evaluation[0]}\")\n"
   ]
  },
  {
   "cell_type": "code",
   "execution_count": 24,
   "metadata": {
    "colab": {
     "base_uri": "https://localhost:8080/"
    },
    "id": "pkpmVx0DE7kz",
    "outputId": "1d5792ed-6c31-45ec-f533-05eaadc3c330"
   },
   "outputs": [
    {
     "name": "stdout",
     "output_type": "stream",
     "text": [
      "Epoch 1/10\n",
      "422/422 [==============================] - 14s 33ms/step - loss: 1.0342 - accuracy: 0.7494 - val_loss: 0.3790 - val_accuracy: 0.9040\n",
      "Epoch 2/10\n",
      "422/422 [==============================] - 10s 24ms/step - loss: 0.3805 - accuracy: 0.8941 - val_loss: 0.2704 - val_accuracy: 0.9243\n",
      "Epoch 3/10\n",
      "422/422 [==============================] - 10s 23ms/step - loss: 0.3070 - accuracy: 0.9127 - val_loss: 0.2312 - val_accuracy: 0.9353\n",
      "Epoch 4/10\n",
      "422/422 [==============================] - 10s 24ms/step - loss: 0.2698 - accuracy: 0.9230 - val_loss: 0.2083 - val_accuracy: 0.9417\n",
      "Epoch 5/10\n",
      "422/422 [==============================] - 10s 23ms/step - loss: 0.2430 - accuracy: 0.9308 - val_loss: 0.1951 - val_accuracy: 0.9443\n",
      "Epoch 6/10\n",
      "422/422 [==============================] - 8s 19ms/step - loss: 0.2215 - accuracy: 0.9366 - val_loss: 0.1753 - val_accuracy: 0.9518\n",
      "Epoch 7/10\n",
      "422/422 [==============================] - 10s 23ms/step - loss: 0.2042 - accuracy: 0.9410 - val_loss: 0.1661 - val_accuracy: 0.9535\n",
      "Epoch 8/10\n",
      "422/422 [==============================] - 11s 25ms/step - loss: 0.1897 - accuracy: 0.9451 - val_loss: 0.1525 - val_accuracy: 0.9598\n",
      "Epoch 9/10\n",
      "422/422 [==============================] - 8s 19ms/step - loss: 0.1767 - accuracy: 0.9484 - val_loss: 0.1481 - val_accuracy: 0.9600\n",
      "Epoch 10/10\n",
      "422/422 [==============================] - 10s 23ms/step - loss: 0.1654 - accuracy: 0.9524 - val_loss: 0.1358 - val_accuracy: 0.9640\n"
     ]
    }
   ],
   "source": [
    "# Changing model structure by adding more hidden layers\n",
    "model = Sequential([\n",
    "    Dense(512, activation='linear', input_shape=(28*28,)),\n",
    "    Dense(512, activation='relu'),\n",
    "    Dense(512, activation=\"relu\"),  # Adding another hidden layer\n",
    "    Dense(256, activation='relu'),  # Adding a layer with a different number of nodes\n",
    "    Dense(10, activation='softmax')\n",
    "])\n",
    "\n",
    "model.compile(optimizer='sgd', loss='categorical_crossentropy', metrics=['accuracy'])\n",
    "history = model.fit(\n",
    "    X_train, y_train,\n",
    "    epochs=10,\n",
    "    batch_size=128,\n",
    "    validation_split=0.1\n",
    ")"
   ]
  },
  {
   "cell_type": "code",
   "execution_count": 25,
   "metadata": {
    "colab": {
     "base_uri": "https://localhost:8080/",
     "height": 472
    },
    "id": "ZeHWTjTUOIAd",
    "outputId": "eac6820d-5c01-4cd0-cd83-d7d241758805"
   },
   "outputs": [
    {
     "data": {
      "image/png": "[encoded data removed]",
      "text/plain": [
       "<Figure size 640x480 with 1 Axes>"
      ]
     },
     "metadata": {},
     "output_type": "display_data"
    }
   ],
   "source": [
    "plot_loss_fn(history)"
   ]
  },
  {
   "cell_type": "code",
   "execution_count": 26,
   "metadata": {
    "colab": {
     "base_uri": "https://localhost:8080/",
     "height": 472
    },
    "id": "FhCqpvXWOJkQ",
    "outputId": "91b9c69c-9c04-442e-b5e4-dcfd19a6abe4"
   },
   "outputs": [
    {
     "data": {
      "image/png": "[encoded data removed]",
      "text/plain": [
       "<Figure size 640x480 with 1 Axes>"
      ]
     },
     "metadata": {},
     "output_type": "display_data"
    }
   ],
   "source": [
    "plot_acc_fn(history)"
   ]
  },
  {
   "cell_type": "markdown",
   "metadata": {
    "id": "Tn39uPiLE7kz"
   },
   "source": [
    "### 7. Discussion and Result\n",
    "Q: Write down your findings from the previous step.\n",
    "\n",
    "**ANSWER**"
   ]
  },
  {
   "cell_type": "markdown",
   "metadata": {
    "id": "kO1kTAr2E7kz"
   },
   "source": [
    "**Note:** I removed all the layers in the previous model to make it run faster for each parameter that I adjusted or changed.\n",
    "1. Adjust the learning rate (SGD)\n",
    "- The result after trying different learning rates shows that the increase in learning rate makes the model accuracy increase but the model seems to overfit though.\n",
    "2. Experiment with different optimizers (sgd, rmsprop, adagrad, adam)\n",
    "- The result shows that the best accuracy optimizer arranged from best to worst is adam, adagrad, rmsprop and sgd. Although the model seems to overfit.\n",
    "3. Change the structure of your model\n",
    "- At the 8th epoch, the validation accuracy plateaus while the training accuracy continues to rise. Additionally, the validation loss appears to stabilize or decrease initially, but in later epochs, it starts to increase slightly. This divergence suggests the onset of overfitting."
   ]
  }
 ],
 "metadata": {
  "colab": {
   "provenance": [],
   "toc_visible": true
  },
  "kernelspec": {
   "display_name": "Python 3 (ipykernel)",
   "language": "python",
   "name": "python3"
  },
  "language_info": {
   "codemirror_mode": {
    "name": "ipython",
    "version": 3
   },
   "file_extension": ".py",
   "mimetype": "text/x-python",
   "name": "python",
   "nbconvert_exporter": "python",
   "pygments_lexer": "ipython3",
   "version": "3.10.9"
  }
 },
 "nbformat": 4,
 "nbformat_minor": 1
}
